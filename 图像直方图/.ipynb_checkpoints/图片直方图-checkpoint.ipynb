{
 "cells": [
  {
   "cell_type": "markdown",
   "metadata": {},
   "source": [
    "## 彩色图片直方图\n",
    "\n",
    "最重要的图像美化效果是直方图均衡化，直方图分为灰度图的直方图和彩色图的直方图两种，彩色图片有RGB三种颜色的直方图。  \n",
    "可以通过直方图均衡化使图像的直方图分布更均匀，经过直方图均衡化后，图片的亮度和清晰度的效果会更好。\n",
    "\n",
    "直方图中横坐标表示0-255的颜色等级，纵坐标是每个颜色等级在整张图片中出现的概率(0-1)，即通常是归一化后的直方图。\n",
    "\n",
    "<img src='images/直方图.jpg' width=50%>\n",
    "\n",
    "[说说直方图均衡化](https://zhuanlan.zhihu.com/p/32857009)\n",
    "\n",
    "直方图是很多空间域图像处理技术的基础，可以有效的用于图像增加，图像压缩与分割等各个方面。\n",
    "* 在较暗的图中，直方图的组成成分集中在灰度级低的一侧\n",
    "* 在比较亮的图中，直方图的组成成分集中在了灰度级高的一侧\n",
    "* 在低对比度的图中，直方图窄而且集中在中间的区域\n",
    "* 在高对比度的图中，直方图覆盖了灰度级很宽的范围，而且像素的分布比较均匀\n",
    "\n",
    "如果要从美学的角度调整一幅灰度图，要尽可能保证该图像的直方图能覆盖全部的灰度等级并且分布均匀，那么图像就有了高对比度和多变的灰度色调。  \n",
    "直方图的均衡化，是一种变换函数使得其对原图进行变换后，得到的新图像能够满足上面所说的直方图的分布要求。\n",
    "\n",
    "\n",
    "主要函数：cv2.calcHist(), np.histogram()  \n",
    "原理：通过直方图可以对整幅图像的对比度，亮度，灰度分布等有一个直观的认识。直方图的X轴是灰度值（0,255），Y轴是图片中每个灰度值对应的像素数。"
   ]
  },
  {
   "cell_type": "code",
   "execution_count": 10,
   "metadata": {},
   "outputs": [],
   "source": [
    "import cv2\n",
    "import numpy as np\n",
    "\n",
    "def ImageHist(image,type): # 直方图的统计\n",
    "    color = (255,255,255)\n",
    "    windowName = 'Gray'\n",
    "    if type == 31: # blue\n",
    "        color = (255,0,0)\n",
    "        windowName = 'B Hist'\n",
    "    elif type == 32: # green\n",
    "        color = (0,255,0)\n",
    "        windowName = 'G Hist'\n",
    "    elif type == 33: # red\n",
    "        color = (0,0,255)\n",
    "        windowName = 'R Hist'\n",
    "\n",
    "    # 计算图片的直方图：\n",
    "    # 1 image 2 直方图通道,[0]表示灰度直方图 4 直方图的柱状数 5 灰度值范围0-255\n",
    "    hist = cv2.calcHist([image], [0], None, [256], [0.0,255.0])\n",
    "    # print(hist.shape) # (256, 1)\n",
    "    # 计算当前直方图中最大值和最小值以及对应的下标\n",
    "    minV, maxV, minL, maxL = cv2.minMaxLoc(hist)\n",
    "    # 创建画布\n",
    "    histImg = np.zeros([256,256,3], np.uint8) # 彩色图\n",
    "    for h in range(256): # 对于每个灰度等级(0-255)\n",
    "        intenNormal = int(hist[h]*256/maxV) # 归一化数组\n",
    "        cv2.line(histImg, (h,256), (h,256-intenNormal), color)\n",
    "    cv2.imshow(windowName, histImg)\n",
    "\n",
    "    return histImg"
   ]
  },
  {
   "cell_type": "code",
   "execution_count": 12,
   "metadata": {},
   "outputs": [
    {
     "name": "stdout",
     "output_type": "stream",
     "text": [
      "(547, 730, 3)\n",
      "(3, 547, 730)\n"
     ]
    },
    {
     "data": {
      "text/plain": [
       "-1"
      ]
     },
     "execution_count": 12,
     "metadata": {},
     "output_type": "execute_result"
    }
   ],
   "source": [
    "img = cv2.imread('image0.jpg',1)\n",
    "# cv2.imshow('src', img)\n",
    "\n",
    "channels = cv2.split(img)# BGR - B G R\n",
    "print(img.shape)\n",
    "print(np.array(channels).shape)\n",
    "\n",
    "for i in range(len(channels)):\n",
    "    ImageHist(channels[i], 31+i)\n",
    "cv2.waitKey(0)"
   ]
  },
  {
   "cell_type": "markdown",
   "metadata": {},
   "source": [
    "无需分离通道，用折线来描绘直方图的边界可在一副图中同时绘制三个通道的直方图\n",
    "\n",
    "[直方图的计算与显示](https://blog.csdn.net/sunny2038/article/details/9097989)"
   ]
  },
  {
   "cell_type": "code",
   "execution_count": 14,
   "metadata": {},
   "outputs": [
    {
     "data": {
      "text/plain": [
       "-1"
      ]
     },
     "execution_count": 14,
     "metadata": {},
     "output_type": "execute_result"
    }
   ],
   "source": [
    "import cv2  \n",
    "import numpy as np  \n",
    "\n",
    "img = cv2.imread('image0.jpg', 1)  \n",
    "h = np.zeros((256,256,3)) #创建用于绘制直方图的全0图像  \n",
    "\n",
    "bins = np.arange(256).reshape(256,1) #保存直方图中各bin的顶点位置  \n",
    "color = [(255,0,0),(0,255,0),(0,0,255)] #BGR三种颜色  \n",
    "for ch, col in enumerate(color):  \n",
    "    originHist = cv2.calcHist([img],[ch],None,[256],[0,256])  \n",
    "    cv2.normalize(originHist, originHist, 0, 255*0.9, cv2.NORM_MINMAX)  \n",
    "    hist=np.int32(np.around(originHist))  \n",
    "    pts = np.column_stack((bins,hist))  \n",
    "    cv2.polylines(h,[pts],False,col)  \n",
    "\n",
    "h=np.flipud(h)  \n",
    "\n",
    "cv2.imshow('colorhist',h)  \n",
    "cv2.waitKey(0)"
   ]
  },
  {
   "cell_type": "markdown",
   "metadata": {},
   "source": [
    "## 直方图均衡化（API）\n",
    "\n",
    "对RGB图像进行直方图均衡化会改变图像的整体颜色，如果直方图均衡化后不想改变整体的颜色，而只是进行亮度增强或直方图离散化，可以采用**YUV**的形式，只把Y通道进行直方图离散化。"
   ]
  },
  {
   "cell_type": "code",
   "execution_count": 15,
   "metadata": {},
   "outputs": [
    {
     "data": {
      "text/plain": [
       "-1"
      ]
     },
     "execution_count": 15,
     "metadata": {},
     "output_type": "execute_result"
    }
   ],
   "source": [
    "#灰度 直方图均衡化\n",
    "import cv2\n",
    "import numpy as np\n",
    "img = cv2.imread('image0.jpg',1)\n",
    "gray = cv2.cvtColor(img,cv2.COLOR_BGR2GRAY)\n",
    "cv2.imshow('src',gray)\n",
    "dst = cv2.equalizeHist(gray) # 直方图均衡化\n",
    "cv2.imshow('dst',dst)\n",
    "cv2.waitKey(0)\n",
    "\n",
    "# 图像经过直方图均衡化后，灰度图更加明亮"
   ]
  },
  {
   "cell_type": "code",
   "execution_count": 16,
   "metadata": {},
   "outputs": [
    {
     "data": {
      "text/plain": [
       "-1"
      ]
     },
     "execution_count": 16,
     "metadata": {},
     "output_type": "execute_result"
    }
   ],
   "source": [
    "#彩色 直方图均衡化\n",
    "import cv2\n",
    "import numpy as np\n",
    "img = cv2.imread('image0.jpg',1)\n",
    "cv2.imshow('src',img)\n",
    "(b,g,r) = cv2.split(img) # 通道分解\n",
    "# equalizeHist()只能传入单通道\n",
    "bH = cv2.equalizeHist(b)\n",
    "gH = cv2.equalizeHist(g)\n",
    "rH = cv2.equalizeHist(r)\n",
    "result = cv2.merge((bH,gH,rH)) # 通道合成\n",
    "cv2.imshow('dst',result)\n",
    "cv2.waitKey(0)"
   ]
  },
  {
   "cell_type": "code",
   "execution_count": 3,
   "metadata": {},
   "outputs": [
    {
     "name": "stdout",
     "output_type": "stream",
     "text": [
      "(3, 547, 730)\n"
     ]
    },
    {
     "data": {
      "text/plain": [
       "-1"
      ]
     },
     "execution_count": 3,
     "metadata": {},
     "output_type": "execute_result"
    }
   ],
   "source": [
    "#YUV 直方图均衡化\n",
    "import cv2\n",
    "import numpy as np\n",
    "img = cv2.imread('image0.jpg',1)\n",
    "imgYUV = cv2.cvtColor(img,cv2.COLOR_BGR2YCrCb) # 转换为YUV\n",
    "cv2.imshow('src',img)\n",
    "\n",
    "channelYUV = cv2.split(imgYUV)\n",
    "print(np.array(channelYUV).shape)\n",
    "channelYUV[0] = cv2.equalizeHist(channelYUV[0])\n",
    "channels = cv2.merge(channelYUV)\n",
    "\n",
    "# 也可以不拆分，直接将Y通道值均衡化\n",
    "# imgYUV[:,:,0] = cv2.equalizeHist(imgYUV[:,:,0])\n",
    "\n",
    "result = cv2.cvtColor(channels, cv2.COLOR_YCrCb2BGR)\n",
    "cv2.imshow('dst',result)\n",
    "cv2.waitKey(0)"
   ]
  },
  {
   "cell_type": "markdown",
   "metadata": {},
   "source": [
    "## 灰度直方图\n",
    "\n",
    "本质：统计每个像素灰度出现的概率p，横坐标是0-255，纵坐标是概率p"
   ]
  },
  {
   "cell_type": "code",
   "execution_count": 23,
   "metadata": {},
   "outputs": [
    {
     "data": {
      "image/png": "[encoded data removed]",
      "text/plain": [
       "<matplotlib.figure.Figure at 0x23aa7b2d0b8>"
      ]
     },
     "metadata": {},
     "output_type": "display_data"
    }
   ],
   "source": [
    "import cv2\n",
    "import numpy as np\n",
    "import matplotlib.pyplot as plt\n",
    "img = cv2.imread('image0.jpg',1)\n",
    "imgInfo = img.shape\n",
    "height = imgInfo[0]\n",
    "width = imgInfo[1]\n",
    "gray = cv2.cvtColor(img,cv2.COLOR_BGR2GRAY)\n",
    "count = np.zeros(256, np.float) # 记录每个灰度值出现的个数\n",
    "\n",
    "# for i in range(0, height):\n",
    "#     for j in range(0, width):\n",
    "#         pixel = gray[i,j]\n",
    "#         index = int(pixel)\n",
    "#         count[index] = count[index]+1\n",
    "# for i in range(0,256):\n",
    "#     count[i] = count[i]/(height*width)\n",
    "\n",
    "keys = np.unique(gray)\n",
    "for key in keys:\n",
    "    count[key] = np.sum(gray==key)\n",
    "\n",
    "prob = count / (height*width) # 求得概率\n",
    "x = np.linspace(0, 255, 256)\n",
    "plt.figure()\n",
    "# 1 横坐标 2 纵坐标 3 线宽 4 透明度\n",
    "plt.bar(x, prob, 0.9, alpha=1, color='gray')\n",
    "plt.show()"
   ]
  },
  {
   "cell_type": "markdown",
   "metadata": {},
   "source": [
    "## 彩色直方图"
   ]
  },
  {
   "cell_type": "code",
   "execution_count": 32,
   "metadata": {},
   "outputs": [
    {
     "data": {
      "image/png": "[encoded data removed]",
      "text/plain": [
       "<matplotlib.figure.Figure at 0x23aabb8a5f8>"
      ]
     },
     "metadata": {},
     "output_type": "display_data"
    }
   ],
   "source": [
    "import cv2\n",
    "import numpy as np\n",
    "import matplotlib.pyplot as plt\n",
    "img = cv2.imread('image0.jpg',1)\n",
    "imgInfo = img.shape\n",
    "height = imgInfo[0]\n",
    "width = imgInfo[1]\n",
    "\n",
    "count_b = np.zeros(256, np.float)\n",
    "count_g = np.zeros(256, np.float)\n",
    "count_r = np.zeros(256, np.float)\n",
    "\n",
    "# for i in range(0,height):\n",
    "#     for j in range(0,width):\n",
    "#         (b,g,r) = img[i,j]\n",
    "#         index_b = int(b)\n",
    "#         index_g = int(g)\n",
    "#         index_r = int(r)\n",
    "#         count_b[index_b] = count_b[index_b]+1\n",
    "#         count_g[index_g] = count_g[index_g]+1\n",
    "#         count_r[index_r] = count_r[index_r]+1\n",
    "# for i in range(0,256):\n",
    "#     count_b[i] = count_b[i]/(height*width)\n",
    "#     count_g[i] = count_g[i]/(height*width)\n",
    "#     count_r[i] = count_r[i]/(height*width)\n",
    "\n",
    "(b,g,r) = cv2.split(img)\n",
    "keys = np.arange(256)\n",
    "for key in keys:\n",
    "    count_b[key] = np.sum(b==key)\n",
    "    count_g[key] = np.sum(g==key)\n",
    "    count_r[key] = np.sum(r==key)\n",
    "prob_b = count_b / (height*width)\n",
    "prob_g = count_g / (height*width)\n",
    "prob_r = count_r / (height*width)\n",
    "\n",
    "x = np.linspace(0,255,256)\n",
    "fig = plt.figure(figsize=(16,5)) # 幕布\n",
    "ax1 = fig.add_subplot(1,3,1)\n",
    "ax1.bar(x,prob_b,0.9,alpha=1,color='b')\n",
    "ax2 = fig.add_subplot(1,3,2)\n",
    "ax2.bar(x,prob_g,0.9,alpha=1,color='g')\n",
    "ax3 = fig.add_subplot(1,3,3)\n",
    "ax3.bar(x,prob_r,0.9,alpha=1,color='r')\n",
    "plt.show()"
   ]
  },
  {
   "cell_type": "markdown",
   "metadata": {},
   "source": [
    "## 灰度直方图均衡化\n",
    "\n",
    "在直方图中纵坐标表示每个灰度等级对应的概率。\n",
    "```python\n",
    "灰度等级  概率  累积概率\n",
    "1         0.02   0.02\n",
    "2         0.01   0.03\n",
    "3         0.03   0.06\n",
    "...\n",
    "```\n",
    "\n",
    "累积概率就是加上之前所有灰度等级的概率，256个灰度等级，每个灰度等级都会有一个概率和一个累积概率。值越大的像素累积概率越高。  \n",
    "比如灰度值为100的像素的累计概率为0.5，就用255\\*0.5代替该像素这个值，其他灰度等级的像素都按照这种方式进行更新，就可以实现直方图的均衡化。\n",
    "\n",
    "对一幅图像做一次直方图均衡化，和做多次的结果是一样的。  \n",
    "一幅图像只能对应一个直方图，但是一个直方图可以对应多幅图像，这说明了直方图和图像的像素位置没有直接的关系，只是统计了在一个灰度级出现的像素个数的多少，并不知道这些像素值具体分布在这张图像上的什么位置。"
   ]
  },
  {
   "cell_type": "code",
   "execution_count": 41,
   "metadata": {},
   "outputs": [
    {
     "data": {
      "image/png": "[encoded data removed]",
      "text/plain": [
       "<matplotlib.figure.Figure at 0x23aa7d11fd0>"
      ]
     },
     "metadata": {},
     "output_type": "display_data"
    },
    {
     "data": {
      "text/plain": [
       "-1"
      ]
     },
     "execution_count": 41,
     "metadata": {},
     "output_type": "execute_result"
    }
   ],
   "source": [
    "# 1 统计每个颜色出现的概率 2 累计概率 3 0-255 255*p 4 new pixel\n",
    "import cv2\n",
    "import numpy as np\n",
    "import matplotlib.pyplot as plt\n",
    "\n",
    "# 统计每个灰度值出现的概率\n",
    "def pixel_num(gray):\n",
    "    count = np.zeros(256, np.float)\n",
    "\n",
    "     # 计算每个灰度等级的概率\n",
    "    keys = np.unique(gray)\n",
    "    for key in keys:\n",
    "        count[key] = np.sum(gray==key)\n",
    "    probs = count / (height*width)\n",
    "    return probs\n",
    "\n",
    "img = cv2.imread('image0.jpg',1)\n",
    "imgInfo = img.shape\n",
    "height = imgInfo[0]\n",
    "width = imgInfo[1]\n",
    "gray = cv2.cvtColor(img,cv2.COLOR_BGR2GRAY)\n",
    "cv2.imshow('src',gray)\n",
    "\n",
    "probs = pixel_num(gray)\n",
    "\n",
    "#计算累计概率\n",
    "prob_sum = np.zeros(256, np.float)\n",
    "for i in range(0,256):\n",
    "    prob_sum[i] = np.sum(probs[:i+1])\n",
    "# for i in range(1,256):\n",
    "#     prob_sum[i] = prob_sum[i-1]+probs[i]\n",
    "\n",
    "# 计算映射表\n",
    "map_table = (prob_sum * 255).astype(np.uint8)\n",
    "\n",
    "# 映射\n",
    "for i in range(0,height):\n",
    "    for j in range(0,width):\n",
    "        pixel = gray[i,j]\n",
    "        gray[i,j] = map_table[pixel]\n",
    "\n",
    "probs2 = pixel_num(gray)\n",
    "\n",
    "fig = plt.figure(figsize=(12,4)) # 幕布\n",
    "x = np.linspace(0,255,256)\n",
    "ax1 = fig.add_subplot(1,2,1) # 选取幕布的前半部分\n",
    "ax1.bar(x, probs, 0.9, alpha=1, color='gray')\n",
    "ax2 = fig.add_subplot(1,2,2)\n",
    "ax2.bar(x, probs2, 0.9, alpha=1, color='gray')\n",
    "plt.show()\n",
    "\n",
    "cv2.imshow('dst',gray)\n",
    "cv2.waitKey(0)"
   ]
  },
  {
   "cell_type": "markdown",
   "metadata": {},
   "source": [
    "## 彩色直方图均衡化"
   ]
  },
  {
   "cell_type": "code",
   "execution_count": 44,
   "metadata": {},
   "outputs": [
    {
     "data": {
      "image/png": "[encoded data removed]",
      "text/plain": [
       "<matplotlib.figure.Figure at 0x23aad748cf8>"
      ]
     },
     "metadata": {},
     "output_type": "display_data"
    },
    {
     "data": {
      "image/png": "[encoded data removed]",
      "text/plain": [
       "<matplotlib.figure.Figure at 0x23aa96b1160>"
      ]
     },
     "metadata": {},
     "output_type": "display_data"
    },
    {
     "data": {
      "text/plain": [
       "-1"
      ]
     },
     "execution_count": 44,
     "metadata": {},
     "output_type": "execute_result"
    }
   ],
   "source": [
    "import cv2\n",
    "import numpy as np\n",
    "import matplotlib.pyplot as plt\n",
    "\n",
    "def pixel_num(img):\n",
    "    count_b = np.zeros(256,np.float)\n",
    "    count_g = np.zeros(256,np.float)\n",
    "    count_r = np.zeros(256,np.float)\n",
    "\n",
    "    # 计算每个通道中每个等级的概率\n",
    "    (b,g,r) = cv2.split(img)\n",
    "    keys = np.arange(256)\n",
    "    for key in keys:\n",
    "        count_b[key] = np.sum(b==key)\n",
    "        count_g[key] = np.sum(g==key)\n",
    "        count_r[key] = np.sum(r==key)\n",
    "    probs_b = count_b / (height*width)\n",
    "    probs_g = count_g / (height*width)\n",
    "    probs_r = count_r / (height*width)\n",
    "    return probs_b, probs_g, probs_r\n",
    "\n",
    "img = cv2.imread('image0.jpg',1)\n",
    "cv2.imshow('src',img)\n",
    "imgInfo = img.shape\n",
    "height = imgInfo[0]\n",
    "width = imgInfo[1]\n",
    "\n",
    "probs_b, probs_g, probs_r = pixel_num(img)\n",
    "\n",
    "# 计算累计概率\n",
    "prob_sum_b = np.zeros(256, np.float)\n",
    "prob_sum_g = np.zeros(256, np.float)\n",
    "prob_sum_r = np.zeros(256, np.float)\n",
    "for i in range(0,256):\n",
    "    prob_sum_b[i] = np.sum(probs_b[:i+1])\n",
    "    prob_sum_g[i] = np.sum(probs_g[:i+1])\n",
    "    prob_sum_r[i] = np.sum(probs_r[:i+1])\n",
    "\n",
    "# 计算映射表\n",
    "map_b = (prob_sum_b * 255).astype(np.uint8)\n",
    "map_g = (prob_sum_g * 255).astype(np.uint8)\n",
    "map_r = (prob_sum_r * 255).astype(np.uint8)\n",
    "\n",
    "# 映射\n",
    "dst = np.zeros((height,width,3),np.uint8)\n",
    "for i in range(0,height):\n",
    "    for j in range(0,width):\n",
    "        (b,g,r) = img[i,j]\n",
    "        dst[i,j] = (map_b[b],map_g[g],map_r[r])\n",
    "\n",
    "probs2_b, probs2_g, probs2_r = pixel_num(dst)\n",
    "\n",
    "x = np.linspace(0,255,256)\n",
    "\n",
    "fig = plt.figure(figsize=(16,5))\n",
    "ax1 = fig.add_subplot(1,3,1)\n",
    "ax1.bar(x,probs_b,0.9,alpha=1,color='b')\n",
    "ax2 = fig.add_subplot(1,3,2)\n",
    "ax2.bar(x,probs_g,0.9,alpha=1,color='g')\n",
    "ax3 = fig.add_subplot(1,3,3)\n",
    "ax3.bar(x,probs_r,0.9,alpha=1,color='r')\n",
    "\n",
    "fig = plt.figure(figsize=(16,5))\n",
    "ax1 = fig.add_subplot(1,3,1)\n",
    "ax1.bar(x,probs2_b,0.9,alpha=1,color='b')\n",
    "ax2 = fig.add_subplot(1,3,2)\n",
    "ax2.bar(x,probs2_g,0.9,alpha=1,color='g')\n",
    "ax3 = fig.add_subplot(1,3,3)\n",
    "ax3.bar(x,probs2_r,0.9,alpha=1,color='r')\n",
    "\n",
    "plt.show()\n",
    "\n",
    "cv2.imshow('dst',dst)\n",
    "cv2.waitKey(0)"
   ]
  }
 ],
 "metadata": {
  "kernelspec": {
   "display_name": "Python 3",
   "language": "python",
   "name": "python3"
  },
  "language_info": {
   "codemirror_mode": {
    "name": "ipython",
    "version": 3
   },
   "file_extension": ".py",
   "mimetype": "text/x-python",
   "name": "python",
   "nbconvert_exporter": "python",
   "pygments_lexer": "ipython3",
   "version": "3.5.5"
  }
 },
 "nbformat": 4,
 "nbformat_minor": 2
}
